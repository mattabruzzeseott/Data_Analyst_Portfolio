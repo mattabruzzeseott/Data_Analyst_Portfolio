{
 "cells": [
  {
   "cell_type": "markdown",
   "id": "e3844354",
   "metadata": {},
   "source": [
    "Q1. Mandelbrot Set"
   ]
  },
  {
   "cell_type": "code",
   "execution_count": 3,
   "id": "a1134c61",
   "metadata": {},
   "outputs": [
    {
     "name": "stderr",
     "output_type": "stream",
     "text": [
      "<ipython-input-3-686a62b54afe>:11: RuntimeWarning: invalid value encountered in square\n",
      "  z = z**2 + c #update z values, z_n+1 = z_n**2 + c\n"
     ]
    },
    {
     "data": {
      "image/png": "[encoded data removed]",
      "text/plain": [
       "<Figure size 432x288 with 1 Axes>"
      ]
     },
     "metadata": {
      "needs_background": "light"
     },
     "output_type": "display_data"
    },
    {
     "data": {
      "text/plain": [
       "<Figure size 432x288 with 0 Axes>"
      ]
     },
     "metadata": {},
     "output_type": "display_data"
    }
   ],
   "source": [
    "import matplotlib.pyplot as plt\n",
    "import numpy as np\n",
    "\n",
    "threshold = 500\n",
    "n_max = 50 #number of iterations\n",
    "x,y = np.mgrid[-2:1:500j, -1.5:1.5:500j]\n",
    "c = x + 1j * y #define c as a grid of x and y values from above\n",
    "z = c #initialize z = c, because z_0 = 0\n",
    "for i in range(n_max):\n",
    "    z[abs(z) >= threshold] = np.inf #set all values of z greater than our threshold to infinity\n",
    "    z = z**2 + c #update z values, z_n+1 = z_n**2 + c\n",
    "    \n",
    "mask = np.ma.masked_equal(abs(z), np.inf) #construct a mask, which masks values of z that equal infinity\n",
    "plt.imshow(mask.T, extent=[-2, 1, -1.5, 1.5]) #plot mandelbrot set\n",
    "plt.gray()\n",
    "plt.show()\n",
    "plt.savefig('mandelbrot.png')"
   ]
  },
  {
   "cell_type": "markdown",
   "id": "6a3a08a9",
   "metadata": {},
   "source": [
    "Q2. Markov Chain"
   ]
  },
  {
   "cell_type": "markdown",
   "id": "9c515ef7",
   "metadata": {},
   "source": [
    "Part 1"
   ]
  },
  {
   "cell_type": "code",
   "execution_count": 4,
   "id": "e9b5c244",
   "metadata": {},
   "outputs": [
    {
     "name": "stdout",
     "output_type": "stream",
     "text": [
      "[[0.32623039 0.04890178 0.28979554 0.21359858 0.12147371]\n",
      " [0.14945933 0.30420453 0.06125495 0.2123204  0.27276079]\n",
      " [0.26546045 0.29014967 0.00467883 0.39252959 0.04718146]\n",
      " [0.08953446 0.2400194  0.13483442 0.14374287 0.39186886]\n",
      " [0.16727987 0.07961803 0.21267457 0.28171496 0.25871256]]\n"
     ]
    }
   ],
   "source": [
    "import numpy as np\n",
    "\n",
    "num_states = 5\n",
    "P = np.random.rand(num_states, num_states) #generate random 5x5 matrix P\n",
    "P /= P.sum(axis=1)[:, np.newaxis] #normalize each row of matrix P \n",
    "print(P)"
   ]
  },
  {
   "cell_type": "markdown",
   "id": "7407ff6a",
   "metadata": {},
   "source": [
    "Part 2"
   ]
  },
  {
   "cell_type": "code",
   "execution_count": 5,
   "id": "9bc228ed",
   "metadata": {},
   "outputs": [
    {
     "name": "stdout",
     "output_type": "stream",
     "text": [
      "[0.20743105 0.25233385 0.25310799 0.25673601 0.0303911 ]\n",
      "[0.19029378 0.18527386 0.14955234 0.23943331 0.23544671]\n"
     ]
    }
   ],
   "source": [
    "p = np.random.rand(num_states) #generate random size-5 vector p\n",
    "p /= p.sum() #normalize vector p\n",
    "print(p)\n",
    "\n",
    "for i in range(50): #iterate 50 times to apply transition rule 50 times\n",
    "    p = P.T.dot(p) #multiply the transpose of P by p i.e., the transition rule\n",
    "    \n",
    "p_50 = p\n",
    "print(p_50)"
   ]
  },
  {
   "cell_type": "markdown",
   "id": "9834da51",
   "metadata": {},
   "source": [
    "Part 3"
   ]
  },
  {
   "cell_type": "code",
   "execution_count": 8,
   "id": "3153dd96",
   "metadata": {},
   "outputs": [
    {
     "name": "stdout",
     "output_type": "stream",
     "text": [
      "[0.19029378 0.18527386 0.14955234 0.23943331 0.23544671]\n"
     ]
    }
   ],
   "source": [
    "w,v = np.linalg.eig(P.T) #find eigenvalues and corresponding eigenvectors of the transpose of P\n",
    "stationary_w = np.argmin(abs(w - 1)) #find the eigenvalue closest to 1\n",
    "p_stationary = v[:, stationary_w].real #find the eigenvector v corresponding to the eigenvalue closest to 1\n",
    "p_stationary /= p_stationary.sum() #scale the eigenvector v so it becomes the stationary distribution i.e., normalized\n",
    "print(p_stationary)"
   ]
  },
  {
   "cell_type": "markdown",
   "id": "66dadb3c",
   "metadata": {},
   "source": [
    "Part 4"
   ]
  },
  {
   "cell_type": "code",
   "execution_count": 9,
   "id": "b4433e4d",
   "metadata": {},
   "outputs": [
    {
     "name": "stdout",
     "output_type": "stream",
     "text": [
      "p_stationary and p_50 match with each other within 1e-5.\n"
     ]
    }
   ],
   "source": [
    "if all(abs(p_stationary - p_50) < 1e-5): #check that their difference is within the given bound 1e-5\n",
    "    print('p_stationary and p_50 match with each other within 1e-5.')"
   ]
  }
 ],
 "metadata": {
  "kernelspec": {
   "display_name": "Python 3",
   "language": "python",
   "name": "python3"
  },
  "language_info": {
   "codemirror_mode": {
    "name": "ipython",
    "version": 3
   },
   "file_extension": ".py",
   "mimetype": "text/x-python",
   "name": "python",
   "nbconvert_exporter": "python",
   "pygments_lexer": "ipython3",
   "version": "3.8.8"
  }
 },
 "nbformat": 4,
 "nbformat_minor": 5
}
