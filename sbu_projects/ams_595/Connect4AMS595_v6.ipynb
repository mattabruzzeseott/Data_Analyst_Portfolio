{
 "cells": [
  {
   "cell_type": "markdown",
   "metadata": {},
   "source": [
    "# Connect 4 Board Game"
   ]
  },
  {
   "cell_type": "markdown",
   "metadata": {},
   "source": [
    "Assign the number of rows and columns for the Connect 4 Board"
   ]
  },
  {
   "cell_type": "code",
   "execution_count": 3,
   "metadata": {},
   "outputs": [],
   "source": [
    "n_rows = 6\n",
    "n_cols = 7"
   ]
  },
  {
   "cell_type": "markdown",
   "metadata": {},
   "source": [
    "Error handling used later on to be raised if the given column a player is trying to place a piece in is full"
   ]
  },
  {
   "cell_type": "code",
   "execution_count": 4,
   "metadata": {},
   "outputs": [],
   "source": [
    "class ColFilledException(Exception):\n",
    "    pass"
   ]
  },
  {
   "cell_type": "markdown",
   "metadata": {},
   "source": [
    "Function to create an empty array for the board and initialize a for loop to add blanks for each (i,j) entry in the array"
   ]
  },
  {
   "cell_type": "code",
   "execution_count": 5,
   "metadata": {},
   "outputs": [],
   "source": [
    "def new_board():\n",
    "    board = []\n",
    "    for i in range(n_rows):\n",
    "        col = []\n",
    "        for j in range(n_cols):\n",
    "            col.append(\"\")\n",
    "        board.append(col)\n",
    "    return board"
   ]
  },
  {
   "cell_type": "markdown",
   "metadata": {},
   "source": [
    "Function to print the board after each pass of the while loop. Adds a pipe delimiter to more realisticly depict a board using a for loop for each (i,j) entry in the array"
   ]
  },
  {
   "cell_type": "code",
   "execution_count": 6,
   "metadata": {},
   "outputs": [],
   "source": [
    "def print_board(board):\n",
    "    for i in range(0, n_rows):\n",
    "        for j in range(0, n_cols):\n",
    "            if j == n_cols-1:\n",
    "                print((\"\\t|\\t\" + board[i][j] + \"\\t|\\t\"), end=\"\")\n",
    "                print(\"\")\n",
    "            else:\n",
    "                print(\"\\t|\\t\" + board[i][j], end=\"\")"
   ]
  },
  {
   "cell_type": "markdown",
   "metadata": {},
   "source": [
    "Assigns (i,j) entry of the board with the corresponding piece. Either unicode red for player 1 or unicode yellow for player 2"
   ]
  },
  {
   "cell_type": "code",
   "execution_count": 7,
   "metadata": {},
   "outputs": [],
   "source": [
    "def piece_position(board, row, col, piece):\n",
    "    board[row][col] = piece"
   ]
  },
  {
   "cell_type": "markdown",
   "metadata": {},
   "source": [
    "This method checks if a specified space in the entered column is unoccupied"
   ]
  },
  {
   "cell_type": "code",
   "execution_count": 8,
   "metadata": {},
   "outputs": [],
   "source": [
    "def empty_space(board, col):\n",
    "    return board[0][col] == \"\""
   ]
  },
  {
   "cell_type": "markdown",
   "metadata": {},
   "source": [
    "This method loops upwards starting from the bottom row of the selected column and returns the row level with the first open space. "
   ]
  },
  {
   "cell_type": "code",
   "execution_count": 9,
   "metadata": {},
   "outputs": [],
   "source": [
    "def row_level(board, col):\n",
    "    for r in range(n_rows-1,-1,-1): \n",
    "        if board[r][col] == \"\":\n",
    "            return r"
   ]
  },
  {
   "cell_type": "markdown",
   "metadata": {},
   "source": [
    "This function was created to check the four ways to win: horizontal, vertical, right diagonal, and left diagonal."
   ]
  },
  {
   "cell_type": "code",
   "execution_count": 10,
   "metadata": {},
   "outputs": [],
   "source": [
    "def winning_conditions(board, piece):\n",
    "    # Looks for horizontal win\n",
    "    for c in range(n_cols - 3):\n",
    "        for r in range(n_rows):\n",
    "            # Starting at the left-most piece, if this piece and all 3 pieces to the right have the same color, this is a win.\n",
    "            if board[r][c] == piece and board[r][c + 1] == piece and board[r][c + 2] == piece and board[r][\n",
    "                c + 3] == piece:\n",
    "                return True\n",
    "\n",
    "    # Looks for vertical win\n",
    "    for c in range(n_cols):\n",
    "        for r in range(n_rows - 3):\n",
    "            # Starting at the upper-most piece, if this piece and all 3 pieces below have the same color, this is a win.\n",
    "            if board[r][c] == piece and board[r + 1][c] == piece and board[r + 2][c] == piece and board[r + 3][\n",
    "                c] == piece:\n",
    "                return True\n",
    "\n",
    "    # Looks for right diagonal win\n",
    "    for c in range(n_cols - 3):\n",
    "        for r in range(n_rows - 3):\n",
    "            # Starting at the upper-left piece, if this piece and all 3 pieces to the bottom-right have the same color, this is a win.\n",
    "            if board[r][c] == piece and board[r + 1][c + 1] == piece and board[r + 2][c + 2] == piece and board[r + 3][\n",
    "                c + 3] == piece:\n",
    "                return True\n",
    "\n",
    "    # Looks for left diagonal win\n",
    "    for c in range(3, n_cols):\n",
    "        for r in range(n_rows - 3):\n",
    "            # Starting at the upper-right piece, if this piece and all 3 pieces to the bottom-left have the same color, this is a win.\n",
    "            if board[r][c] == piece and board[r + 1][c - 1] == piece and board[r + 2][c - 2] == piece and board[r + 3][\n",
    "                c - 3] == piece:\n",
    "                return True"
   ]
  },
  {
   "cell_type": "markdown",
   "metadata": {},
   "source": [
    "Assign board variable as a new board using the previously defined function"
   ]
  },
  {
   "cell_type": "code",
   "execution_count": 11,
   "metadata": {},
   "outputs": [],
   "source": [
    "board = new_board()"
   ]
  },
  {
   "cell_type": "markdown",
   "metadata": {},
   "source": [
    "Initialize two variables needed for the various flow mechanisms implemented in the game structure"
   ]
  },
  {
   "cell_type": "code",
   "execution_count": 12,
   "metadata": {},
   "outputs": [],
   "source": [
    "#Initialize game_over as false, this will be assigned to True once a winning condition is met.\n",
    "game_over = False\n",
    "#Initialize a counter variable to keep track of the number of rounds passed. This is used to determine if a tie is reached.\n",
    "count = 0"
   ]
  },
  {
   "cell_type": "markdown",
   "metadata": {},
   "source": [
    "Print out the newly defined board variable using the print_board function alongside the directions for the game\n",
    "implementation of the game using the above defined functions in conjunction with several flow mechanisms and error handling"
   ]
  },
  {
   "cell_type": "code",
   "execution_count": 13,
   "metadata": {},
   "outputs": [
    {
     "name": "stdout",
     "output_type": "stream",
     "text": [
      "\t|\t\t|\t\t|\t\t|\t\t|\t\t|\t\t|\t\t|\t\n",
      "\t|\t\t|\t\t|\t\t|\t\t|\t\t|\t\t|\t\t|\t\n",
      "\t|\t\t|\t\t|\t\t|\t\t|\t\t|\t\t|\t\t|\t\n",
      "\t|\t\t|\t\t|\t\t|\t\t|\t\t|\t\t|\t\t|\t\n",
      "\t|\t\t|\t\t|\t\t|\t\t|\t\t|\t\t|\t\t|\t\n",
      "\t|\t\t|\t\t|\t\t|\t\t|\t\t|\t\t|\t\t|\t\n",
      "Rules:\n",
      "The first player to get four pieces in a row wins.\n",
      "To drop piece: Select integer from 1 to 7 (inclusive)\n",
      "If negative number is selected, absolute value will be used.\n"
     ]
    },
    {
     "name": "stdin",
     "output_type": "stream",
     "text": [
      "Who wants to go first? Please enter 1 or 2: 1\n",
      "Player 1, which color will you choose? Please enter red or yellow: red\n"
     ]
    },
    {
     "name": "stdout",
     "output_type": "stream",
     "text": [
      "\n",
      "Player 1 is now assigned 🔴\n",
      "Player 2 is now assigned 🟡\n"
     ]
    },
    {
     "name": "stdin",
     "output_type": "stream",
     "text": [
      "Player 1, Drop your piece [1-7]: 1\n"
     ]
    },
    {
     "name": "stdout",
     "output_type": "stream",
     "text": [
      "\t|\t\t|\t\t|\t\t|\t\t|\t\t|\t\t|\t\t|\t\n",
      "\t|\t\t|\t\t|\t\t|\t\t|\t\t|\t\t|\t\t|\t\n",
      "\t|\t\t|\t\t|\t\t|\t\t|\t\t|\t\t|\t\t|\t\n",
      "\t|\t\t|\t\t|\t\t|\t\t|\t\t|\t\t|\t\t|\t\n",
      "\t|\t\t|\t\t|\t\t|\t\t|\t\t|\t\t|\t\t|\t\n",
      "\t|\t🔴\t|\t\t|\t\t|\t\t|\t\t|\t\t|\t\t|\t\n"
     ]
    },
    {
     "name": "stdin",
     "output_type": "stream",
     "text": [
      "Player 2, Drop your piece [1-7]: 2\n"
     ]
    },
    {
     "name": "stdout",
     "output_type": "stream",
     "text": [
      "\t|\t\t|\t\t|\t\t|\t\t|\t\t|\t\t|\t\t|\t\n",
      "\t|\t\t|\t\t|\t\t|\t\t|\t\t|\t\t|\t\t|\t\n",
      "\t|\t\t|\t\t|\t\t|\t\t|\t\t|\t\t|\t\t|\t\n",
      "\t|\t\t|\t\t|\t\t|\t\t|\t\t|\t\t|\t\t|\t\n",
      "\t|\t\t|\t\t|\t\t|\t\t|\t\t|\t\t|\t\t|\t\n",
      "\t|\t🔴\t|\t🟡\t|\t\t|\t\t|\t\t|\t\t|\t\t|\t\n"
     ]
    },
    {
     "name": "stdin",
     "output_type": "stream",
     "text": [
      "Player 1, Drop your piece [1-7]: 1\n"
     ]
    },
    {
     "name": "stdout",
     "output_type": "stream",
     "text": [
      "\t|\t\t|\t\t|\t\t|\t\t|\t\t|\t\t|\t\t|\t\n",
      "\t|\t\t|\t\t|\t\t|\t\t|\t\t|\t\t|\t\t|\t\n",
      "\t|\t\t|\t\t|\t\t|\t\t|\t\t|\t\t|\t\t|\t\n",
      "\t|\t\t|\t\t|\t\t|\t\t|\t\t|\t\t|\t\t|\t\n",
      "\t|\t🔴\t|\t\t|\t\t|\t\t|\t\t|\t\t|\t\t|\t\n",
      "\t|\t🔴\t|\t🟡\t|\t\t|\t\t|\t\t|\t\t|\t\t|\t\n"
     ]
    },
    {
     "name": "stdin",
     "output_type": "stream",
     "text": [
      "Player 2, Drop your piece [1-7]: 2\n"
     ]
    },
    {
     "name": "stdout",
     "output_type": "stream",
     "text": [
      "\t|\t\t|\t\t|\t\t|\t\t|\t\t|\t\t|\t\t|\t\n",
      "\t|\t\t|\t\t|\t\t|\t\t|\t\t|\t\t|\t\t|\t\n",
      "\t|\t\t|\t\t|\t\t|\t\t|\t\t|\t\t|\t\t|\t\n",
      "\t|\t\t|\t\t|\t\t|\t\t|\t\t|\t\t|\t\t|\t\n",
      "\t|\t🔴\t|\t🟡\t|\t\t|\t\t|\t\t|\t\t|\t\t|\t\n",
      "\t|\t🔴\t|\t🟡\t|\t\t|\t\t|\t\t|\t\t|\t\t|\t\n"
     ]
    },
    {
     "name": "stdin",
     "output_type": "stream",
     "text": [
      "Player 1, Drop your piece [1-7]: 1\n"
     ]
    },
    {
     "name": "stdout",
     "output_type": "stream",
     "text": [
      "\t|\t\t|\t\t|\t\t|\t\t|\t\t|\t\t|\t\t|\t\n",
      "\t|\t\t|\t\t|\t\t|\t\t|\t\t|\t\t|\t\t|\t\n",
      "\t|\t\t|\t\t|\t\t|\t\t|\t\t|\t\t|\t\t|\t\n",
      "\t|\t🔴\t|\t\t|\t\t|\t\t|\t\t|\t\t|\t\t|\t\n",
      "\t|\t🔴\t|\t🟡\t|\t\t|\t\t|\t\t|\t\t|\t\t|\t\n",
      "\t|\t🔴\t|\t🟡\t|\t\t|\t\t|\t\t|\t\t|\t\t|\t\n"
     ]
    },
    {
     "name": "stdin",
     "output_type": "stream",
     "text": [
      "Player 2, Drop your piece [1-7]: 2\n"
     ]
    },
    {
     "name": "stdout",
     "output_type": "stream",
     "text": [
      "\t|\t\t|\t\t|\t\t|\t\t|\t\t|\t\t|\t\t|\t\n",
      "\t|\t\t|\t\t|\t\t|\t\t|\t\t|\t\t|\t\t|\t\n",
      "\t|\t\t|\t\t|\t\t|\t\t|\t\t|\t\t|\t\t|\t\n",
      "\t|\t🔴\t|\t🟡\t|\t\t|\t\t|\t\t|\t\t|\t\t|\t\n",
      "\t|\t🔴\t|\t🟡\t|\t\t|\t\t|\t\t|\t\t|\t\t|\t\n",
      "\t|\t🔴\t|\t🟡\t|\t\t|\t\t|\t\t|\t\t|\t\t|\t\n"
     ]
    },
    {
     "name": "stdin",
     "output_type": "stream",
     "text": [
      "Player 1, Drop your piece [1-7]: 1\n"
     ]
    },
    {
     "name": "stdout",
     "output_type": "stream",
     "text": [
      "Player 1 Wins!\n",
      "\t|\t\t|\t\t|\t\t|\t\t|\t\t|\t\t|\t\t|\t\n",
      "\t|\t\t|\t\t|\t\t|\t\t|\t\t|\t\t|\t\t|\t\n",
      "\t|\t🔴\t|\t\t|\t\t|\t\t|\t\t|\t\t|\t\t|\t\n",
      "\t|\t🔴\t|\t🟡\t|\t\t|\t\t|\t\t|\t\t|\t\t|\t\n",
      "\t|\t🔴\t|\t🟡\t|\t\t|\t\t|\t\t|\t\t|\t\t|\t\n",
      "\t|\t🔴\t|\t🟡\t|\t\t|\t\t|\t\t|\t\t|\t\t|\t\n"
     ]
    }
   ],
   "source": [
    "print_board(board)\n",
    "\n",
    "#Print the rules of the game and which column numbers the players can choose from.\n",
    "print(\n",
    "    \"Rules:\\nThe first player to get four pieces in a row wins.\\nTo drop piece: Select integer from 1 to 7 (inclusive)\\nIf negative number is selected, absolute value will be used.\"\n",
    ")\n",
    "\n",
    "#The output will ask the players who wants to go first, where the users will input the player number who will go first.\n",
    "while True:\n",
    "    try:        \n",
    "        turn = int(input(\"Who wants to go first? Please enter 1 or 2:\")) - 1\n",
    "        if (turn not in range(0,2)):\n",
    "            raise IndexError\n",
    "        break\n",
    "    #prints an error if an integer outside of the proper range is inputted by the player\n",
    "    except IndexError:\n",
    "        print(\"Player number entered was not 1 or 2, please try again\")\n",
    "    #prints an error if anything other than an integer is inputted by the player\n",
    "    except ValueError:\n",
    "        print(\"Invalid entry, please try again\")\n",
    "\n",
    "#The player who goes first will get to choose which color they will play with. This will determine the colors that are placed on the board in the while loop.\n",
    "while True:\n",
    "    try:\n",
    "        color = str(input(\"Player \" + str(turn+1) + \", which color will you choose? Please enter red or yellow:\"))\n",
    "        if (color.upper() not in [\"RED\",\"YELLOW\"]):\n",
    "            raise IndexError\n",
    "        break\n",
    "    #prints an error if anything other than an the color red or yellow is inputted by the player\n",
    "    except IndexError:\n",
    "        print(\"Color entered was not red or yellow, please try again\")\n",
    "\n",
    "#Assignment of colors to players based on what they entered in the statements above. \n",
    "#There are four combinations of selecting who goes first and their color preference.\n",
    "if (turn == 0) & (color.upper() == \"RED\"):\n",
    "    col1 = u\"\\U0001f534\"\n",
    "    col2 = u\"\\U0001F7E1\"\n",
    "elif (turn == 0) & (color.upper() == \"YELLOW\"):\n",
    "    col1 = u\"\\U0001F7E1\"\n",
    "    col2 = u\"\\U0001f534\"\n",
    "elif (turn == 1) & (color.upper() == \"RED\"):\n",
    "    col2 = u\"\\U0001f534\"\n",
    "    col1 = u\"\\U0001F7E1\"\n",
    "elif (turn == 1) & (color.upper() == \"YELLOW\"):\n",
    "    col2 = u\"\\U0001F7E1\"\n",
    "    col1 = u\"\\U0001f534\"\n",
    "\n",
    "print(\"\\nPlayer 1 is now assigned \" + col1 + \"\\nPlayer 2 is now assigned \" + col2)\n",
    "    \n",
    "#while loop for the game will break once game_over is reassigned to True\n",
    "while game_over == False:\n",
    "    \n",
    "    # Ask for player 1 input\n",
    "    if turn == 0:\n",
    "        #error handling\n",
    "        while True:\n",
    "            try:\n",
    "                col = abs(int(input(\"Player 1, Drop your piece [1-7]:\"))) - 1\n",
    "                if(col == -1):\n",
    "                    raise IndexError\n",
    "                empty_space(board, col)\n",
    "                if empty_space(board, col) == False:\n",
    "                    raise ColFilledException\n",
    "                break\n",
    "            except ValueError:\n",
    "                print(\"Invalid entry, please try again\")\n",
    "                #prints an error if anything other than an integer is inputted by the player\n",
    "            except IndexError:\n",
    "                print(\"Entry was not within range 1 to 7 inclusive, please try again\")\n",
    "                #prints an error if an integer outside of the proper range is inputted by the player\n",
    "            except ColFilledException:\n",
    "                print(\"Column filled, please try again\")\n",
    "                #prints an error if the array entry is non-empty and prompts player to enter a valid number\n",
    "\n",
    "        # Player 1 will drop a piece on the board\n",
    "        if empty_space(board, col):\n",
    "            row = row_level(board, col)\n",
    "            piece_position(board, row, col, col1)\n",
    "            #increments the count of turns by 1\n",
    "            count += 1\n",
    "            #checks if any of the 4 winning methods has been achieved after player 1 drops the piece\n",
    "            if winning_conditions(board, col1) == True:\n",
    "                #if a winning method was found, game_over is reassigned to true, breaking the while loop and prints a notification\n",
    "                game_over = True\n",
    "                print(\"Player 1 Wins!\")\n",
    "            if count == 42:\n",
    "                #if a tie is reached, game_over is reassigned to true, breaking the while loop and a notification is printed\n",
    "                game_over = True\n",
    "                print(\"It's a tie\")\n",
    "\n",
    "    # Ask for player 2 input\n",
    "    else:\n",
    "        #error handling\n",
    "        while True:\n",
    "            try:\n",
    "                col = abs(int(input(\"Player 2, Drop your piece [1-7]:\"))) - 1\n",
    "                if (col == -1):\n",
    "                    raise IndexError\n",
    "                if empty_space(board, col) == False:\n",
    "                    raise ColFilledException\n",
    "                empty_space(board, col)\n",
    "                break\n",
    "            except ValueError:\n",
    "                print(\"Invalid entry, please try again\")\n",
    "                #prints an error if anything other than an integer is inputted by the player\n",
    "            except IndexError:\n",
    "                print(\"Entry was not within range 1 to 7 inclusive, please try again\")\n",
    "                #prints an error if an integer outside of the proper range is inputted by the player\n",
    "            except ColFilledException:\n",
    "                print(\"Column filled, please try again\")\n",
    "                #prints an error if the array entry is non-empty and prompts player to enter a valid number\n",
    "        \n",
    "        # Player 2 will drop a piece on the board\n",
    "        if empty_space(board, col):\n",
    "            row = row_level(board, col)\n",
    "            piece_position(board, row, col, col2)\n",
    "            #increments the count of turns by 1\n",
    "            count += 1\n",
    "            #checks if any of the 4 winning methods has been achieved after player 1 drops the piece\n",
    "            if winning_conditions(board, col2) == True:\n",
    "                #if a winning method was found, game_over is reassigned to true, breaking the while loop and prints a notification\n",
    "                game_over = True\n",
    "                print(\"Player 2 Wins!\")\n",
    "            if count == 42:\n",
    "                #if a tie is reached, game_over is reassigned to true, breaking the while loop and a notification is printed\n",
    "                game_over = True\n",
    "                print(\"It's a tie\")\n",
    "    #print the board after each player drops a piece\n",
    "    print_board(board)\n",
    "    #alternate the turn to prompt the opposite player to take their turn\n",
    "    turn = abs(turn - 1)"
   ]
  },
  {
   "cell_type": "markdown",
   "metadata": {},
   "source": [
    "Ready to play again? Run this code below for a new game:"
   ]
  },
  {
   "cell_type": "code",
   "execution_count": null,
   "metadata": {},
   "outputs": [
    {
     "name": "stdout",
     "output_type": "stream",
     "text": [
      "\t|\t\t|\t\t|\t\t|\t\t|\t\t|\t\t|\t\t|\t\n",
      "\t|\t\t|\t\t|\t\t|\t\t|\t\t|\t\t|\t\t|\t\n",
      "\t|\t\t|\t\t|\t\t|\t\t|\t\t|\t\t|\t\t|\t\n",
      "\t|\t\t|\t\t|\t\t|\t\t|\t\t|\t\t|\t\t|\t\n",
      "\t|\t\t|\t\t|\t\t|\t\t|\t\t|\t\t|\t\t|\t\n",
      "\t|\t\t|\t\t|\t\t|\t\t|\t\t|\t\t|\t\t|\t\n",
      "Rules:\n",
      "The first player to get four pieces in a row wins.\n",
      "To drop piece: Select integer from 1 to 7 (inclusive)\n",
      "If negative number is selected, absolute value will be used.\n"
     ]
    }
   ],
   "source": [
    "#This is the same code used above, now condensed so that it is easier to run a new game.\n",
    "n_rows = 6\n",
    "n_cols = 7\n",
    "class ColFilledException(Exception):\n",
    "    pass\n",
    "def new_board():\n",
    "    board = []\n",
    "    for i in range(n_rows):\n",
    "        col = []\n",
    "        for j in range(n_cols):\n",
    "            col.append(\"\")\n",
    "        board.append(col)\n",
    "    return board\n",
    "def print_board(board):\n",
    "    for i in range(0, n_rows):\n",
    "        for j in range(0, n_cols):\n",
    "            if j == n_cols-1:\n",
    "                print((\"\\t|\\t\" + board[i][j] + \"\\t|\\t\"), end=\"\")\n",
    "                print(\"\")\n",
    "            else:\n",
    "                print(\"\\t|\\t\" + board[i][j], end=\"\")\n",
    "def piece_position(board, row, col, piece):\n",
    "    board[row][col] = piece\n",
    "def empty_space(board, col):\n",
    "    return board[0][col] == \"\"\n",
    "def row_level(board, col):\n",
    "    for r in range(n_rows-1,-1,-1): \n",
    "        if board[r][col] == \"\":\n",
    "            return r\n",
    "def winning_conditions(board, piece):\n",
    "    # Looks for horizontal win\n",
    "    for c in range(n_cols - 3):\n",
    "        for r in range(n_rows):\n",
    "            # Starting at the left-most piece, if this piece and all 3 pieces to the right have the same color, this is a win.\n",
    "            if board[r][c] == piece and board[r][c + 1] == piece and board[r][c + 2] == piece and board[r][\n",
    "                c + 3] == piece:\n",
    "                return True\n",
    "\n",
    "    # Looks for vertical win\n",
    "    for c in range(n_cols):\n",
    "        for r in range(n_rows - 3):\n",
    "            # Starting at the upper-most piece, if this piece and all 3 pieces below have the same color, this is a win.\n",
    "            if board[r][c] == piece and board[r + 1][c] == piece and board[r + 2][c] == piece and board[r + 3][\n",
    "                c] == piece:\n",
    "                return True\n",
    "\n",
    "    # Looks for right diagonal win\n",
    "    for c in range(n_cols - 3):\n",
    "        for r in range(n_rows - 3):\n",
    "            # Starting at the upper-left piece, if this piece and all 3 pieces to the bottom-right have the same color, this is a win.\n",
    "            if board[r][c] == piece and board[r + 1][c + 1] == piece and board[r + 2][c + 2] == piece and board[r + 3][\n",
    "                c + 3] == piece:\n",
    "                return True\n",
    "\n",
    "    # Looks for left diagonal win\n",
    "    for c in range(3, n_cols):\n",
    "        for r in range(n_rows - 3):\n",
    "            # Starting at the upper-right piece, if this piece and all 3 pieces to the bottom-left have the same color, this is a win.\n",
    "            if board[r][c] == piece and board[r + 1][c - 1] == piece and board[r + 2][c - 2] == piece and board[r + 3][\n",
    "                c - 3] == piece:\n",
    "                return True\n",
    "board = new_board()\n",
    "#Initialize game_over as false, this will be assigned to True once a winning condition is met.\n",
    "game_over = False\n",
    "#Initialize a counter variable to keep track of the number of rounds passed. This is used to determine if a tie is reached.\n",
    "count = 0\n",
    "print_board(board)\n",
    "\n",
    "#Print the rules of the game and which column numbers the players can choose from.\n",
    "print(\n",
    "    \"Rules:\\nThe first player to get four pieces in a row wins.\\nTo drop piece: Select integer from 1 to 7 (inclusive)\\nIf negative number is selected, absolute value will be used.\"\n",
    ")\n",
    "\n",
    "#The output will ask the players who wants to go first, where the users will input the player number who will go first.\n",
    "while True:\n",
    "    try:        \n",
    "        turn = int(input(\"Who wants to go first? Please enter 1 or 2:\")) - 1\n",
    "        if (turn not in range(0,2)):\n",
    "            raise IndexError\n",
    "        break\n",
    "    #prints an error if an integer outside of the proper range is inputted by the player\n",
    "    except IndexError:\n",
    "        print(\"Player number entered was not 1 or 2, please try again\")\n",
    "    #prints an error if anything other than an integer is inputted by the player\n",
    "    except ValueError:\n",
    "        print(\"Invalid entry, please try again\")\n",
    "\n",
    "#The player who goes first will get to choose which color they will play with. This will determine the colors that are placed on the board in the while loop.\n",
    "while True:\n",
    "    try:\n",
    "        color = str(input(\"Player \" + str(turn+1) + \", which color will you choose? Please enter red or yellow:\"))\n",
    "        if (color.upper() not in [\"RED\",\"YELLOW\"]):\n",
    "            raise IndexError\n",
    "        break\n",
    "    #prints an error if anything other than an the color red or yellow is inputted by the player\n",
    "    except IndexError:\n",
    "        print(\"Color entered was not red or yellow, please try again\")\n",
    "\n",
    "#Assignment of colors to players based on what they entered in the statements above. \n",
    "#There are four combinations of selecting who goes first and their color preference.\n",
    "if (turn == 0) & (color.upper() == \"RED\"):\n",
    "    col1 = u\"\\U0001f534\"\n",
    "    col2 = u\"\\U0001F7E1\"\n",
    "elif (turn == 0) & (color.upper() == \"YELLOW\"):\n",
    "    col1 = u\"\\U0001F7E1\"\n",
    "    col2 = u\"\\U0001f534\"\n",
    "elif (turn == 1) & (color.upper() == \"RED\"):\n",
    "    col2 = u\"\\U0001f534\"\n",
    "    col1 = u\"\\U0001F7E1\"\n",
    "elif (turn == 1) & (color.upper() == \"YELLOW\"):\n",
    "    col2 = u\"\\U0001F7E1\"\n",
    "    col1 = u\"\\U0001f534\"\n",
    "\n",
    "print(\"\\nPlayer 1 is now assigned \" + col1 + \"\\nPlayer 2 is now assigned \" + col2)\n",
    "    \n",
    "#while loop for the game will break once game_over is reassigned to True\n",
    "while game_over == False:\n",
    "    \n",
    "    # Ask for player 1 input\n",
    "    if turn == 0:\n",
    "        #error handling\n",
    "        while True:\n",
    "            try:\n",
    "                col = abs(int(input(\"Player 1, Drop your piece [1-7]:\"))) - 1\n",
    "                if(col == -1):\n",
    "                    raise IndexError\n",
    "                empty_space(board, col)\n",
    "                if empty_space(board, col) == False:\n",
    "                    raise ColFilledException\n",
    "                break\n",
    "            except ValueError:\n",
    "                print(\"Invalid entry, please try again\")\n",
    "                #prints an error if anything other than an integer is inputted by the player\n",
    "            except IndexError:\n",
    "                print(\"Entry was not within range 1 to 7 inclusive, please try again\")\n",
    "                #prints an error if an integer outside of the proper range is inputted by the player\n",
    "            except ColFilledException:\n",
    "                print(\"Column filled, please try again\")\n",
    "                #prints an error if the array entry is non-empty and prompts player to enter a valid number\n",
    "\n",
    "        # Player 1 will drop a piece on the board\n",
    "        if empty_space(board, col):\n",
    "            row = row_level(board, col)\n",
    "            piece_position(board, row, col, col1)\n",
    "            #increments the count of turns by 1\n",
    "            count += 1\n",
    "            #checks if any of the 4 winning methods has been achieved after player 1 drops the piece\n",
    "            if winning_conditions(board, col1) == True:\n",
    "                #if a winning method was found, game_over is reassigned to true, breaking the while loop and prints a notification\n",
    "                game_over = True\n",
    "                print(\"Player 1 Wins!\")\n",
    "            if count == 42:\n",
    "                #if a tie is reached, game_over is reassigned to true, breaking the while loop and a notification is printed\n",
    "                game_over = True\n",
    "                print(\"It's a tie\")\n",
    "\n",
    "    # Ask for player 2 input\n",
    "    else:\n",
    "        #error handling\n",
    "        while True:\n",
    "            try:\n",
    "                col = abs(int(input(\"Player 2, Drop your piece [1-7]:\"))) - 1\n",
    "                if (col == -1):\n",
    "                    raise IndexError\n",
    "                if empty_space(board, col) == False:\n",
    "                    raise ColFilledException\n",
    "                empty_space(board, col)\n",
    "                break\n",
    "            except ValueError:\n",
    "                print(\"Invalid entry, please try again\")\n",
    "                #prints an error if anything other than an integer is inputted by the player\n",
    "            except IndexError:\n",
    "                print(\"Entry was not within range 1 to 7 inclusive, please try again\")\n",
    "                #prints an error if an integer outside of the proper range is inputted by the player\n",
    "            except ColFilledException:\n",
    "                print(\"Column filled, please try again\")\n",
    "                #prints an error if the array entry is non-empty and prompts player to enter a valid number\n",
    "        \n",
    "        # Player 2 will drop a piece on the board\n",
    "        if empty_space(board, col):\n",
    "            row = row_level(board, col)\n",
    "            piece_position(board, row, col, col2)\n",
    "            #increments the count of turns by 1\n",
    "            count += 1\n",
    "            #checks if any of the 4 winning methods has been achieved after player 1 drops the piece\n",
    "            if winning_conditions(board, col2) == True:\n",
    "                #if a winning method was found, game_over is reassigned to true, breaking the while loop and prints a notification\n",
    "                game_over = True\n",
    "                print(\"Player 2 Wins!\")\n",
    "            if count == 42:\n",
    "                #if a tie is reached, game_over is reassigned to true, breaking the while loop and a notification is printed\n",
    "                game_over = True\n",
    "                print(\"It's a tie\")\n",
    "    #print the board after each player drops a piece\n",
    "    print_board(board)\n",
    "    #alternate the turn to prompt the opposite player to take their turn\n",
    "    turn = abs(turn - 1)\n"
   ]
  },
  {
   "cell_type": "code",
   "execution_count": null,
   "metadata": {},
   "outputs": [],
   "source": []
  }
 ],
 "metadata": {
  "kernelspec": {
   "display_name": "Python 3",
   "language": "python",
   "name": "python3"
  },
  "language_info": {
   "codemirror_mode": {
    "name": "ipython",
    "version": 3
   },
   "file_extension": ".py",
   "mimetype": "text/x-python",
   "name": "python",
   "nbconvert_exporter": "python",
   "pygments_lexer": "ipython3",
   "version": "3.8.8"
  }
 },
 "nbformat": 4,
 "nbformat_minor": 4
}
